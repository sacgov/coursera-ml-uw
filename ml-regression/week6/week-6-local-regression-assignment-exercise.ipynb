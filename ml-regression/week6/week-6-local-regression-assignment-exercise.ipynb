








<!DOCTYPE html>
<html lang="en">

<head>
  <meta charset="utf-8">
  <title>Jupyter Notebook Viewer</title>
  <meta name="viewport" content="width=device-width, initial-scale=1.0">
  <meta name="description" content="">
  <meta name="author" content="">
  
  <meta name="robots" content="noindex,nofollow">
  

  <!--NEW RELIC Start Perf Measurement-->
  
  <!--NREND-->

  <!-- Le styles -->
  <script type="text/javascript">
//<![CDATA[
try{if (!window.CloudFlare) {var CloudFlare=[{verbose:0,p:0,byc:0,owlid:"cf",bag2:1,mirage2:0,oracle:0,paths:{cloudflare:"/cdn-cgi/nexp/dok3v=1613a3a185/"},atok:"4fa88b0a1dc137ffde534315869834f1",petok:"8aadbec658c26e32395a9899958015464ad0e0f2-1476807606-1800",zone:"jupyter.org",rocket:"0",apps:{"ga_key":{"ua":"UA-52617120-5","ga_bs":"2"}}}];!function(a,b){a=document.createElement("script"),b=document.getElementsByTagName("script")[0],a.async=!0,a.src="//ajax.cloudflare.com/cdn-cgi/nexp/dok3v=088620b277/cloudflare.min.js",b.parentNode.insertBefore(a,b)}()}}catch(e){};
//]]>
</script>
<link href="/static/build/styles.css" rel="stylesheet">

  <!-- Le HTML5 shim, for IE6-8 support of HTML5 elements -->
  <!--[if lt IE 9]>
    <script src="http://html5shim.googlecode.com/svn/trunk/html5.js"></script>
  <![endif]-->

  <!-- Le fav and touch icons -->
  <link rel="shortcut icon" href="/static/ico/ipynb_icon_16x16.png">
  <link rel="apple-touch-icon-precomposed" sizes="144x144"
        href="/static/ico/apple-touch-icon-144-precomposed.png">
  <link rel="apple-touch-icon-precomposed" sizes="114x114"
        href="/static/ico/apple-touch-icon-114-precomposed.png">
  <link rel="apple-touch-icon-precomposed" sizes="72x72"
        href="/static/ico/apple-touch-icon-72-precomposed.png">
  <link rel="apple-touch-icon-precomposed"
        href="/static/ico/apple-touch-icon-57-precomposed.png">
  
  

  

  
  <meta name="twitter:card" content="summary">
  <meta name="twitter:title" content="Notebook on nbviewer">
  <meta name="twitter:description" content="Check out this Jupyter notebook!">

  
  <meta name="twitter:domain" content="nbviewer.ipython.org">
  <meta name="twitter:image:src" content="http://ipython.org/ipython-doc/dev/_images/ipynb_icon_128x128.png">

  
    <link href="/static/build/notebook.css" rel="stylesheet">
  

  

  
    <script src="https://cdn.mathjax.org/mathjax/latest/MathJax.js?config=TeX-AMS_HTML" type="text/javascript">
    </script>
    <script type="text/javascript">
      init_mathjax = function() {
        if (window.MathJax) {
          // MathJax loaded
          MathJax.Hub.Config({
            TeX: {
              equationNumbers: {
                autoNumber: "AMS",
                useLabelIds: true
              }
            },
            tex2jax: {
              inlineMath: [ ['$','$'], ["\\(","\\)"] ],
              displayMath: [ ['$$','$$'], ["\\[","\\]"] ],
              processEscapes: true,
              processEnvironments: true
            },
            displayAlign: 'center',
            "HTML-CSS": {
              styles: {'.MathJax_Display': {"margin": 0}},
              linebreaks: { automatic: true }
            }
          });
          MathJax.Hub.Queue(["Typeset", MathJax.Hub]);
        }
      }
      init_mathjax();
    </script>
  

<script type="text/javascript">
/* <![CDATA[ */
var _gaq = _gaq || [];
_gaq.push(['_setAccount', 'UA-52617120-5']);
_gaq.push(['_trackPageview']);

(function() {
var ga = document.createElement('script'); ga.type = 'text/javascript'; ga.async = true;
ga.src = ('https:' == document.location.protocol ? 'https://ssl' : 'http://www') + '.google-analytics.com/ga.js';
var s = document.getElementsByTagName('script')[0]; s.parentNode.insertBefore(ga, s);
})();

(function(b){(function(a){"__CF"in b&&"DJS"in b.__CF?b.__CF.DJS.push(a):"addEventListener"in b?b.addEventListener("load",a,!1):b.attachEvent("onload",a)})(function(){"FB"in b&&"Event"in FB&&"subscribe"in FB.Event&&(FB.Event.subscribe("edge.create",function(a){_gaq.push(["_trackSocial","facebook","like",a])}),FB.Event.subscribe("edge.remove",function(a){_gaq.push(["_trackSocial","facebook","unlike",a])}),FB.Event.subscribe("message.send",function(a){_gaq.push(["_trackSocial","facebook","send",a])}));"twttr"in b&&"events"in twttr&&"bind"in twttr.events&&twttr.events.bind("tweet",function(a){if(a){var b;if(a.target&&a.target.nodeName=="IFRAME")a:{if(a=a.target.src){a=a.split("#")[0].match(/[^?=&]+=([^&]*)?/g);b=0;for(var c;c=a[b];++b)if(c.indexOf("url")===0){b=unescape(c.split("=")[1]);break a}}b=void 0}_gaq.push(["_trackSocial","twitter","tweet",b])}})})})(window);
/* ]]> */
</script>
</head>

<body class="nbviewer">

  <!-- These are loaded at the top of the body so they are available to
       notebook cells when they are loaded below. -->
  <script src="/static/components/jquery/dist/jquery.min.js"></script>
  <script src="/static/components/requirejs/require.js"></script>
  <script src="/static/components/moment/min/moment.min.js"></script>

<!-- Navbar
================================================== -->
  <nav id="menubar" class="navbar navbar-default navbar-fixed-top" data-spy="affix">
    <div class="container">
      <div class="navbar-header">
        <button type="button" class="navbar-toggle collapsed" data-toggle="collapse" data-target=".navbar-collapse">
          <span class="sr-only">Toggle navigation</span>
          <i class="fa fa-bars"></i>
        </button>
        <a class="navbar-brand" href="/">
          <img src="/static/img/nav_logo.svg" width="159"/>
        </a>
      </div>

      <div class="collapse navbar-collapse">
        <ul class="nav navbar-nav navbar-right">
          <li>
            <a class="active" href="http://jupyter.org">JUPYTER</a>
          </li>
          <li>
    <a href="/faq" title="FAQ" >
      
        <span>FAQ</span>
      
    </a>
  </li>

          
  
    
  
    
      
        <li>
    <a href="/format/script/github/tuanavu/coursera-university-of-washington/blob/master/machine_learning/2_regression/assignment/week6/week-6-local-regression-assignment-exercise.ipynb" title="View as Code" >
      <span class="fa fa- fa-2x menu-icon"></span>
      <span class="menu-text">View as Code</span>
    </a>
  </li>
      
    
  

  
    <li>
    <a href="#" title="Python 2 Kernel" >
      <span class="fa fa-server fa-2x menu-icon"></span>
      <span class="menu-text">Python 2 Kernel</span>
    </a>
  </li>
  

  
    <li>
    <a href="https://github.com/tuanavu/coursera-university-of-washington/blob/master/machine_learning/2_regression/assignment/week6/week-6-local-regression-assignment-exercise.ipynb" title="View on GitHub" >
      <span class="fa fa-github fa-2x menu-icon"></span>
      <span class="menu-text">View on GitHub</span>
    </a>
  </li>
  

  <li>
    <a href="https://raw.githubusercontent.com/tuanavu/coursera-university-of-washington/master/machine_learning/2_regression/assignment/week6/week-6-local-regression-assignment-exercise.ipynb" title="Download Notebook" download>
      <span class="fa fa-download fa-2x menu-icon"></span>
      <span class="menu-text">Download Notebook</span>
    </a>
  </li>

        </ul>
      </div><!-- /.navbar-collapse -->
      
      
    </div>
  </nav>

  <div class="container container-main">
    
  
  <ol class="breadcrumb">
    
      <li>
        <a href="/github/tuanavu/coursera-university-of-washington/tree/master">coursera-university-of-washington</a>
      </li>
    
      <li>
        <a href="/github/tuanavu/coursera-university-of-washington/tree/master/machine_learning">machine_learning</a>
      </li>
    
      <li>
        <a href="/github/tuanavu/coursera-university-of-washington/tree/master/machine_learning/2_regression">2_regression</a>
      </li>
    
      <li>
        <a href="/github/tuanavu/coursera-university-of-washington/tree/master/machine_learning/2_regression/assignment">assignment</a>
      </li>
    
      <li>
        <a href="/github/tuanavu/coursera-university-of-washington/tree/master/machine_learning/2_regression/assignment/week6">week6</a>
      </li>
    
  </ol>
  
  <div id="notebook">
    <div id="notebook-container">
      
<div class="cell border-box-sizing text_cell rendered">
<div class="prompt input_prompt">
</div>
<div class="inner_cell">
<div class="text_cell_render border-box-sizing rendered_html">
<h1 id="Predicting-house-prices-using-k-nearest-neighbors-regression">Predicting house prices using k-nearest neighbors regression<a class="anchor-link" href="#Predicting-house-prices-using-k-nearest-neighbors-regression">&#182;</a></h1><p>In this notebook, you will implement k-nearest neighbors regression. You will:</p>
<ul>
<li>Find the k-nearest neighbors of a given query input</li>
<li>Predict the output for the query input using the k-nearest neighbors</li>
<li>Choose the best value of k using a validation set</li>
</ul>

</div>
</div>
</div>
<div class="cell border-box-sizing text_cell rendered">
<div class="prompt input_prompt">
</div>
<div class="inner_cell">
<div class="text_cell_render border-box-sizing rendered_html">
<h1 id="Fire-up-GraphLab-Create">Fire up GraphLab Create<a class="anchor-link" href="#Fire-up-GraphLab-Create">&#182;</a></h1>
</div>
</div>
</div>
<div class="cell border-box-sizing code_cell rendered">
<div class="input">
<div class="prompt input_prompt">In&nbsp;[116]:</div>
<div class="inner_cell">
    <div class="input_area">
<div class=" highlight hl-ipython2"><pre><span></span><span class="kn">import</span> <span class="nn">sys</span>
<span class="n">sys</span><span class="o">.</span><span class="n">path</span><span class="o">.</span><span class="n">append</span><span class="p">(</span><span class="s1">&#39;C:\Anaconda2\envs\dato-env\Lib\site-packages&#39;</span><span class="p">)</span>
<span class="kn">import</span> <span class="nn">graphlab</span>
</pre></div>

</div>
</div>
</div>

</div>
<div class="cell border-box-sizing text_cell rendered">
<div class="prompt input_prompt">
</div>
<div class="inner_cell">
<div class="text_cell_render border-box-sizing rendered_html">
<h1 id="Load-in-house-sales-data">Load in house sales data<a class="anchor-link" href="#Load-in-house-sales-data">&#182;</a></h1>
</div>
</div>
</div>
<div class="cell border-box-sizing text_cell rendered">
<div class="prompt input_prompt">
</div>
<div class="inner_cell">
<div class="text_cell_render border-box-sizing rendered_html">
<p>For this notebook, we use a subset of the King County housing dataset created by randomly selecting 40% of the houses in the full dataset.</p>

</div>
</div>
</div>
<div class="cell border-box-sizing code_cell rendered">
<div class="input">
<div class="prompt input_prompt">In&nbsp;[117]:</div>
<div class="inner_cell">
    <div class="input_area">
<div class=" highlight hl-ipython2"><pre><span></span><span class="n">sales</span> <span class="o">=</span> <span class="n">graphlab</span><span class="o">.</span><span class="n">SFrame</span><span class="p">(</span><span class="s1">&#39;kc_house_data_small.gl/&#39;</span><span class="p">)</span>
</pre></div>

</div>
</div>
</div>

</div>
<div class="cell border-box-sizing text_cell rendered">
<div class="prompt input_prompt">
</div>
<div class="inner_cell">
<div class="text_cell_render border-box-sizing rendered_html">
<h1 id="Import-useful-functions-from-previous-notebooks">Import useful functions from previous notebooks<a class="anchor-link" href="#Import-useful-functions-from-previous-notebooks">&#182;</a></h1>
</div>
</div>
</div>
<div class="cell border-box-sizing text_cell rendered">
<div class="prompt input_prompt">
</div>
<div class="inner_cell">
<div class="text_cell_render border-box-sizing rendered_html">
<p>To efficiently compute pairwise distances among data points, we will convert the SFrame into a 2D Numpy array. First import the numpy library and then copy and paste <code>get_numpy_data()</code> from the second notebook of Week 2.</p>

</div>
</div>
</div>
<div class="cell border-box-sizing code_cell rendered">
<div class="input">
<div class="prompt input_prompt">In&nbsp;[118]:</div>
<div class="inner_cell">
    <div class="input_area">
<div class=" highlight hl-ipython2"><pre><span></span><span class="kn">import</span> <span class="nn">numpy</span> <span class="kn">as</span> <span class="nn">np</span> <span class="c1"># note this allows us to refer to numpy as np instead</span>
</pre></div>

</div>
</div>
</div>

</div>
<div class="cell border-box-sizing code_cell rendered">
<div class="input">
<div class="prompt input_prompt">In&nbsp;[119]:</div>
<div class="inner_cell">
    <div class="input_area">
<div class=" highlight hl-ipython2"><pre><span></span><span class="k">def</span> <span class="nf">get_numpy_data</span><span class="p">(</span><span class="n">data_sframe</span><span class="p">,</span> <span class="n">features</span><span class="p">,</span> <span class="n">output</span><span class="p">):</span>
    <span class="n">data_sframe</span><span class="p">[</span><span class="s1">&#39;constant&#39;</span><span class="p">]</span> <span class="o">=</span> <span class="mi">1</span> <span class="c1"># this is how you add a constant column to an SFrame</span>
    <span class="c1"># add the column &#39;constant&#39; to the front of the features list so that we can extract it along with the others:</span>
    <span class="n">features</span> <span class="o">=</span> <span class="p">[</span><span class="s1">&#39;constant&#39;</span><span class="p">]</span> <span class="o">+</span> <span class="n">features</span> <span class="c1"># this is how you combine two lists</span>
    <span class="c1"># select the columns of data_SFrame given by the features list into the SFrame features_sframe (now including constant):</span>
    <span class="n">features_sframe</span> <span class="o">=</span> <span class="n">data_sframe</span><span class="p">[</span><span class="n">features</span><span class="p">]</span>
    <span class="c1"># the following line will convert the features_SFrame into a numpy matrix:</span>
    <span class="n">feature_matrix</span> <span class="o">=</span> <span class="n">features_sframe</span><span class="o">.</span><span class="n">to_numpy</span><span class="p">()</span>
    <span class="c1"># assign the column of data_sframe associated with the output to the SArray output_sarray</span>
    <span class="n">output_sarray</span> <span class="o">=</span> <span class="n">data_sframe</span><span class="p">[</span><span class="n">output</span><span class="p">]</span>
    <span class="c1"># the following will convert the SArray into a numpy array by first converting it to a list</span>
    <span class="n">output_array</span> <span class="o">=</span> <span class="n">output_sarray</span><span class="o">.</span><span class="n">to_numpy</span><span class="p">()</span>
    <span class="k">return</span><span class="p">(</span><span class="n">feature_matrix</span><span class="p">,</span> <span class="n">output_array</span><span class="p">)</span>
</pre></div>

</div>
</div>
</div>

</div>
<div class="cell border-box-sizing text_cell rendered">
<div class="prompt input_prompt">
</div>
<div class="inner_cell">
<div class="text_cell_render border-box-sizing rendered_html">
<p>We will also need the <code>normalize_features()</code> function from Week 5 that normalizes all feature columns to unit norm. Paste this function below.</p>

</div>
</div>
</div>
<div class="cell border-box-sizing code_cell rendered">
<div class="input">
<div class="prompt input_prompt">In&nbsp;[120]:</div>
<div class="inner_cell">
    <div class="input_area">
<div class=" highlight hl-ipython2"><pre><span></span><span class="k">def</span> <span class="nf">normalize_features</span><span class="p">(</span><span class="n">feature_matrix</span><span class="p">):</span>
    <span class="n">norms</span> <span class="o">=</span> <span class="n">np</span><span class="o">.</span><span class="n">linalg</span><span class="o">.</span><span class="n">norm</span><span class="p">(</span><span class="n">feature_matrix</span><span class="p">,</span> <span class="n">axis</span><span class="o">=</span><span class="mi">0</span><span class="p">)</span>
    <span class="n">normalized_features</span> <span class="o">=</span> <span class="n">feature_matrix</span><span class="o">/</span><span class="n">norms</span>
    <span class="k">return</span> <span class="p">(</span><span class="n">normalized_features</span><span class="p">,</span> <span class="n">norms</span><span class="p">)</span>
</pre></div>

</div>
</div>
</div>

</div>
<div class="cell border-box-sizing text_cell rendered">
<div class="prompt input_prompt">
</div>
<div class="inner_cell">
<div class="text_cell_render border-box-sizing rendered_html">
<h1 id="Split-data-into-training,-test,-and-validation-sets">Split data into training, test, and validation sets<a class="anchor-link" href="#Split-data-into-training,-test,-and-validation-sets">&#182;</a></h1>
</div>
</div>
</div>
<div class="cell border-box-sizing code_cell rendered">
<div class="input">
<div class="prompt input_prompt">In&nbsp;[121]:</div>
<div class="inner_cell">
    <div class="input_area">
<div class=" highlight hl-ipython2"><pre><span></span><span class="p">(</span><span class="n">train_and_validation</span><span class="p">,</span> <span class="n">test</span><span class="p">)</span> <span class="o">=</span> <span class="n">sales</span><span class="o">.</span><span class="n">random_split</span><span class="p">(</span><span class="o">.</span><span class="mi">8</span><span class="p">,</span> <span class="n">seed</span><span class="o">=</span><span class="mi">1</span><span class="p">)</span> <span class="c1"># initial train/test split</span>
<span class="p">(</span><span class="n">train</span><span class="p">,</span> <span class="n">validation</span><span class="p">)</span> <span class="o">=</span> <span class="n">train_and_validation</span><span class="o">.</span><span class="n">random_split</span><span class="p">(</span><span class="o">.</span><span class="mi">8</span><span class="p">,</span> <span class="n">seed</span><span class="o">=</span><span class="mi">1</span><span class="p">)</span> <span class="c1"># split training set into training and validation sets</span>
</pre></div>

</div>
</div>
</div>

</div>
<div class="cell border-box-sizing text_cell rendered">
<div class="prompt input_prompt">
</div>
<div class="inner_cell">
<div class="text_cell_render border-box-sizing rendered_html">
<h1 id="Extract-features-and-normalize">Extract features and normalize<a class="anchor-link" href="#Extract-features-and-normalize">&#182;</a></h1>
</div>
</div>
</div>
<div class="cell border-box-sizing text_cell rendered">
<div class="prompt input_prompt">
</div>
<div class="inner_cell">
<div class="text_cell_render border-box-sizing rendered_html">
<p>Using all of the numerical inputs listed in <code>feature_list</code>, transform the training, test, and validation SFrames into Numpy arrays:</p>

</div>
</div>
</div>
<div class="cell border-box-sizing code_cell rendered">
<div class="input">
<div class="prompt input_prompt">In&nbsp;[122]:</div>
<div class="inner_cell">
    <div class="input_area">
<div class=" highlight hl-ipython2"><pre><span></span><span class="n">feature_list</span> <span class="o">=</span> <span class="p">[</span><span class="s1">&#39;bedrooms&#39;</span><span class="p">,</span>  
                <span class="s1">&#39;bathrooms&#39;</span><span class="p">,</span>  
                <span class="s1">&#39;sqft_living&#39;</span><span class="p">,</span>  
                <span class="s1">&#39;sqft_lot&#39;</span><span class="p">,</span>  
                <span class="s1">&#39;floors&#39;</span><span class="p">,</span>
                <span class="s1">&#39;waterfront&#39;</span><span class="p">,</span>  
                <span class="s1">&#39;view&#39;</span><span class="p">,</span>  
                <span class="s1">&#39;condition&#39;</span><span class="p">,</span>  
                <span class="s1">&#39;grade&#39;</span><span class="p">,</span>  
                <span class="s1">&#39;sqft_above&#39;</span><span class="p">,</span>  
                <span class="s1">&#39;sqft_basement&#39;</span><span class="p">,</span>
                <span class="s1">&#39;yr_built&#39;</span><span class="p">,</span>  
                <span class="s1">&#39;yr_renovated&#39;</span><span class="p">,</span>  
                <span class="s1">&#39;lat&#39;</span><span class="p">,</span>  
                <span class="s1">&#39;long&#39;</span><span class="p">,</span>  
                <span class="s1">&#39;sqft_living15&#39;</span><span class="p">,</span>  
                <span class="s1">&#39;sqft_lot15&#39;</span><span class="p">]</span>
<span class="n">features_train</span><span class="p">,</span> <span class="n">output_train</span> <span class="o">=</span> <span class="n">get_numpy_data</span><span class="p">(</span><span class="n">train</span><span class="p">,</span> <span class="n">feature_list</span><span class="p">,</span> <span class="s1">&#39;price&#39;</span><span class="p">)</span>
<span class="n">features_test</span><span class="p">,</span> <span class="n">output_test</span> <span class="o">=</span> <span class="n">get_numpy_data</span><span class="p">(</span><span class="n">test</span><span class="p">,</span> <span class="n">feature_list</span><span class="p">,</span> <span class="s1">&#39;price&#39;</span><span class="p">)</span>
<span class="n">features_valid</span><span class="p">,</span> <span class="n">output_valid</span> <span class="o">=</span> <span class="n">get_numpy_data</span><span class="p">(</span><span class="n">validation</span><span class="p">,</span> <span class="n">feature_list</span><span class="p">,</span> <span class="s1">&#39;price&#39;</span><span class="p">)</span>
</pre></div>

</div>
</div>
</div>

</div>
<div class="cell border-box-sizing text_cell rendered">
<div class="prompt input_prompt">
</div>
<div class="inner_cell">
<div class="text_cell_render border-box-sizing rendered_html">
<p>In computing distances, it is crucial to normalize features. Otherwise, for example, the <code>sqft_living</code> feature (typically on the order of thousands) would exert a much larger influence on distance than the <code>bedrooms</code> feature (typically on the order of ones). We divide each column of the training feature matrix by its 2-norm, so that the transformed column has unit norm.</p>
<p>IMPORTANT: Make sure to store the norms of the features in the training set. The features in the test and validation sets must be divided by these same norms, so that the training, test, and validation sets are normalized consistently.</p>

</div>
</div>
</div>
<div class="cell border-box-sizing code_cell rendered">
<div class="input">
<div class="prompt input_prompt">In&nbsp;[123]:</div>
<div class="inner_cell">
    <div class="input_area">
<div class=" highlight hl-ipython2"><pre><span></span><span class="n">features_train</span><span class="p">,</span> <span class="n">norms</span> <span class="o">=</span> <span class="n">normalize_features</span><span class="p">(</span><span class="n">features_train</span><span class="p">)</span> <span class="c1"># normalize training set features (columns)</span>
<span class="n">features_test</span> <span class="o">=</span> <span class="n">features_test</span> <span class="o">/</span> <span class="n">norms</span> <span class="c1"># normalize test set by training set norms</span>
<span class="n">features_valid</span> <span class="o">=</span> <span class="n">features_valid</span> <span class="o">/</span> <span class="n">norms</span> <span class="c1"># normalize validation set by training set norms</span>
</pre></div>

</div>
</div>
</div>

</div>
<div class="cell border-box-sizing text_cell rendered">
<div class="prompt input_prompt">
</div>
<div class="inner_cell">
<div class="text_cell_render border-box-sizing rendered_html">
<h1 id="Compute-a-single-distance">Compute a single distance<a class="anchor-link" href="#Compute-a-single-distance">&#182;</a></h1>
</div>
</div>
</div>
<div class="cell border-box-sizing text_cell rendered">
<div class="prompt input_prompt">
</div>
<div class="inner_cell">
<div class="text_cell_render border-box-sizing rendered_html">
<p>To start, let's just explore computing the "distance" between two given houses.  We will take our <strong>query house</strong> to be the first house of the test set and look at the distance between this house and the 10th house of the training set.</p>
<p>To see the features associated with the query house, print the first row (index 0) of the test feature matrix. You should get an 18-dimensional vector whose components are between 0 and 1.</p>

</div>
</div>
</div>
<div class="cell border-box-sizing code_cell rendered">
<div class="input">
<div class="prompt input_prompt">In&nbsp;[124]:</div>
<div class="inner_cell">
    <div class="input_area">
<div class=" highlight hl-ipython2"><pre><span></span><span class="k">print</span> <span class="n">features_test</span><span class="p">[</span><span class="mi">0</span><span class="p">]</span>
</pre></div>

</div>
</div>
</div>

<div class="output_wrapper">
<div class="output">


<div class="output_area"><div class="prompt"></div>
<div class="output_subarea output_stream output_stdout output_text">
<pre>[ 0.01345102  0.01551285  0.01807473  0.01759212  0.00160518  0.017059    0.
  0.05102365  0.0116321   0.01564352  0.01362084  0.02481682  0.01350306
  0.          0.01345386 -0.01346927  0.01375926  0.0016225 ]
</pre>
</div>
</div>

</div>
</div>

</div>
<div class="cell border-box-sizing text_cell rendered">
<div class="prompt input_prompt">
</div>
<div class="inner_cell">
<div class="text_cell_render border-box-sizing rendered_html">
<p>Now print the 10th row (index 9) of the training feature matrix. Again, you get an 18-dimensional vector with components between 0 and 1.</p>

</div>
</div>
</div>
<div class="cell border-box-sizing code_cell rendered">
<div class="input">
<div class="prompt input_prompt">In&nbsp;[125]:</div>
<div class="inner_cell">
    <div class="input_area">
<div class=" highlight hl-ipython2"><pre><span></span><span class="k">print</span> <span class="n">features_train</span><span class="p">[</span><span class="mi">9</span><span class="p">]</span>
</pre></div>

</div>
</div>
</div>

<div class="output_wrapper">
<div class="output">


<div class="output_area"><div class="prompt"></div>
<div class="output_subarea output_stream output_stdout output_text">
<pre>[ 0.01345102  0.01163464  0.00602491  0.0083488   0.00050756  0.01279425
  0.          0.          0.01938684  0.01390535  0.0096309   0.
  0.01302544  0.          0.01346821 -0.01346254  0.01195898  0.00156612]
</pre>
</div>
</div>

</div>
</div>

</div>
<div class="cell border-box-sizing text_cell rendered">
<div class="prompt input_prompt">
</div>
<div class="inner_cell">
<div class="text_cell_render border-box-sizing rendered_html">
<p><strong><em>QUIZ QUESTION </em></strong></p>
<p>What is the Euclidean distance between the query house and the 10th house of the training set?</p>
<p>Note: Do not use the <code>np.linalg.norm</code> function; use <code>np.sqrt</code>, <code>np.sum</code>, and the power operator (<code>**</code>) instead. The latter approach is more easily adapted to computing multiple distances at once.</p>

</div>
</div>
</div>
<div class="cell border-box-sizing text_cell rendered">
<div class="prompt input_prompt">
</div>
<div class="inner_cell">
<div class="text_cell_render border-box-sizing rendered_html">
<ul>
<li>Slide 16</li>
</ul>
<p>Euclidean distance:
$distance(x_j, x_q) \sqrt{a_1(x_j[1]-x_q[1])^2 + ... + a_d(x_j[d]-x_q[d])^2)}$</p>

</div>
</div>
</div>
<div class="cell border-box-sizing code_cell rendered">
<div class="input">
<div class="prompt input_prompt">In&nbsp;[126]:</div>
<div class="inner_cell">
    <div class="input_area">
<div class=" highlight hl-ipython2"><pre><span></span><span class="n">euclidean_distance</span> <span class="o">=</span> <span class="n">np</span><span class="o">.</span><span class="n">sqrt</span><span class="p">(</span><span class="n">np</span><span class="o">.</span><span class="n">sum</span><span class="p">((</span><span class="n">features_train</span><span class="p">[</span><span class="mi">9</span><span class="p">]</span> <span class="o">-</span> <span class="n">features_test</span><span class="p">[</span><span class="mi">0</span><span class="p">])</span><span class="o">**</span><span class="mi">2</span><span class="p">))</span>
<span class="k">print</span> <span class="n">euclidean_distance</span>
</pre></div>

</div>
</div>
</div>

<div class="output_wrapper">
<div class="output">


<div class="output_area"><div class="prompt"></div>
<div class="output_subarea output_stream output_stdout output_text">
<pre>0.0597235937167
</pre>
</div>
</div>

</div>
</div>

</div>
<div class="cell border-box-sizing text_cell rendered">
<div class="prompt input_prompt">
</div>
<div class="inner_cell">
<div class="text_cell_render border-box-sizing rendered_html">
<h1 id="Compute-multiple-distances">Compute multiple distances<a class="anchor-link" href="#Compute-multiple-distances">&#182;</a></h1>
</div>
</div>
</div>
<div class="cell border-box-sizing text_cell rendered">
<div class="prompt input_prompt">
</div>
<div class="inner_cell">
<div class="text_cell_render border-box-sizing rendered_html">
<p>Of course, to do nearest neighbor regression, we need to compute the distance between our query house and <em>all</em> houses in the training set.</p>
<p>To visualize this nearest-neighbor search, let's first compute the distance from our query house (<code>features_test[0]</code>) to the first 10 houses of the training set (<code>features_train[0:10]</code>) and then search for the nearest neighbor within this small set of houses.  Through restricting ourselves to a small set of houses to begin with, we can visually scan the list of 10 distances to verify that our code for finding the nearest neighbor is working.</p>
<p>Write a loop to compute the Euclidean distance from the query house to each of the first 10 houses in the training set.</p>

</div>
</div>
</div>
<div class="cell border-box-sizing code_cell rendered">
<div class="input">
<div class="prompt input_prompt">In&nbsp;[127]:</div>
<div class="inner_cell">
    <div class="input_area">
<div class=" highlight hl-ipython2"><pre><span></span><span class="n">dist_dict</span> <span class="o">=</span> <span class="p">{}</span>
<span class="k">for</span> <span class="n">i</span> <span class="ow">in</span> <span class="nb">range</span><span class="p">(</span><span class="mi">0</span><span class="p">,</span><span class="mi">10</span><span class="p">):</span>
    <span class="n">dist_dict</span><span class="p">[</span><span class="n">i</span><span class="p">]</span> <span class="o">=</span> <span class="n">np</span><span class="o">.</span><span class="n">sqrt</span><span class="p">(</span><span class="n">np</span><span class="o">.</span><span class="n">sum</span><span class="p">((</span><span class="n">features_train</span><span class="p">[</span><span class="n">i</span><span class="p">]</span> <span class="o">-</span> <span class="n">features_test</span><span class="p">[</span><span class="mi">0</span><span class="p">])</span><span class="o">**</span><span class="mi">2</span><span class="p">))</span>
    <span class="k">print</span> <span class="p">(</span><span class="n">i</span><span class="p">,</span> <span class="n">np</span><span class="o">.</span><span class="n">sqrt</span><span class="p">(</span><span class="n">np</span><span class="o">.</span><span class="n">sum</span><span class="p">((</span><span class="n">features_train</span><span class="p">[</span><span class="n">i</span><span class="p">]</span> <span class="o">-</span> <span class="n">features_test</span><span class="p">[</span><span class="mi">0</span><span class="p">])</span><span class="o">**</span><span class="mi">2</span><span class="p">)))</span>
</pre></div>

</div>
</div>
</div>

<div class="output_wrapper">
<div class="output">


<div class="output_area"><div class="prompt"></div>
<div class="output_subarea output_stream output_stdout output_text">
<pre>(0, 0.0602747091729555)
(1, 0.085468811488270832)
(2, 0.061499464371202843)
(3, 0.053402739788200579)
(4, 0.058444840639381393)
(5, 0.059879215101840008)
(6, 0.054631404972615261)
(7, 0.055431083241597921)
(8, 0.052383627840972731)
(9, 0.059723593716661257)
</pre>
</div>
</div>

</div>
</div>

</div>
<div class="cell border-box-sizing text_cell rendered">
<div class="prompt input_prompt">
</div>
<div class="inner_cell">
<div class="text_cell_render border-box-sizing rendered_html">
<p><strong><em> QUIZ QUESTION </em></strong></p>
<p>Among the first 10 training houses, which house is the closest to the query house?</p>

</div>
</div>
</div>
<div class="cell border-box-sizing code_cell rendered">
<div class="input">
<div class="prompt input_prompt">In&nbsp;[128]:</div>
<div class="inner_cell">
    <div class="input_area">
<div class=" highlight hl-ipython2"><pre><span></span><span class="k">print</span> <span class="nb">min</span><span class="p">(</span><span class="n">dist_dict</span><span class="o">.</span><span class="n">items</span><span class="p">(),</span> <span class="n">key</span><span class="o">=</span><span class="k">lambda</span> <span class="n">x</span><span class="p">:</span> <span class="n">x</span><span class="p">[</span><span class="mi">1</span><span class="p">])</span> 
</pre></div>

</div>
</div>
</div>

<div class="output_wrapper">
<div class="output">


<div class="output_area"><div class="prompt"></div>
<div class="output_subarea output_stream output_stdout output_text">
<pre>(8, 0.052383627840972731)
</pre>
</div>
</div>

</div>
</div>

</div>
<div class="cell border-box-sizing text_cell rendered">
<div class="prompt input_prompt">
</div>
<div class="inner_cell">
<div class="text_cell_render border-box-sizing rendered_html">
<p>It is computationally inefficient to loop over computing distances to all houses in our training dataset. Fortunately, many of the Numpy functions can be <strong>vectorized</strong>, applying the same operation over multiple values or vectors.  We now walk through this process.</p>

</div>
</div>
</div>
<div class="cell border-box-sizing text_cell rendered">
<div class="prompt input_prompt">
</div>
<div class="inner_cell">
<div class="text_cell_render border-box-sizing rendered_html">
<p>Consider the following loop that computes the element-wise difference between the features of the query house (<code>features_test[0]</code>) and the first 3 training houses (<code>features_train[0:3]</code>):</p>

</div>
</div>
</div>
<div class="cell border-box-sizing code_cell rendered">
<div class="input">
<div class="prompt input_prompt">In&nbsp;[129]:</div>
<div class="inner_cell">
    <div class="input_area">
<div class=" highlight hl-ipython2"><pre><span></span><span class="k">for</span> <span class="n">i</span> <span class="ow">in</span> <span class="nb">xrange</span><span class="p">(</span><span class="mi">3</span><span class="p">):</span>
    <span class="k">print</span> <span class="n">features_train</span><span class="p">[</span><span class="n">i</span><span class="p">]</span><span class="o">-</span><span class="n">features_test</span><span class="p">[</span><span class="mi">0</span><span class="p">]</span>
    <span class="c1"># should print 3 vectors of length 18</span>
</pre></div>

</div>
</div>
</div>

<div class="output_wrapper">
<div class="output">


<div class="output_area"><div class="prompt"></div>
<div class="output_subarea output_stream output_stdout output_text">
<pre>[  0.00000000e+00  -3.87821276e-03  -1.20498190e-02  -1.05552733e-02
   2.08673616e-04  -8.52950206e-03   0.00000000e+00  -5.10236549e-02
   0.00000000e+00  -3.47633726e-03  -5.50336860e-03  -2.48168183e-02
  -1.63756198e-04   0.00000000e+00  -1.70072004e-05   1.30577772e-05
  -5.14364795e-03   6.69281453e-04]
[  0.00000000e+00  -3.87821276e-03  -4.51868214e-03  -2.26610387e-03
   7.19763456e-04   0.00000000e+00   0.00000000e+00  -5.10236549e-02
   0.00000000e+00  -3.47633726e-03   1.30705004e-03  -1.45830788e-02
  -1.91048898e-04   6.65082271e-02   4.23240653e-05   6.22415897e-06
  -2.89330197e-03   1.47606982e-03]
[  0.00000000e+00  -7.75642553e-03  -1.20498190e-02  -1.30002801e-02
   1.60518166e-03  -8.52950206e-03   0.00000000e+00  -5.10236549e-02
   0.00000000e+00  -5.21450589e-03  -8.32384500e-03  -2.48168183e-02
  -3.13866046e-04   0.00000000e+00   4.71047219e-05   1.56530415e-05
   3.72914476e-03   1.64764925e-03]
</pre>
</div>
</div>

</div>
</div>

</div>
<div class="cell border-box-sizing text_cell rendered">
<div class="prompt input_prompt">
</div>
<div class="inner_cell">
<div class="text_cell_render border-box-sizing rendered_html">
<p>The subtraction operator (<code>-</code>) in Numpy is vectorized as follows:</p>

</div>
</div>
</div>
<div class="cell border-box-sizing code_cell rendered">
<div class="input">
<div class="prompt input_prompt">In&nbsp;[130]:</div>
<div class="inner_cell">
    <div class="input_area">
<div class=" highlight hl-ipython2"><pre><span></span><span class="k">print</span> <span class="n">features_train</span><span class="p">[</span><span class="mi">0</span><span class="p">:</span><span class="mi">3</span><span class="p">]</span> <span class="o">-</span> <span class="n">features_test</span><span class="p">[</span><span class="mi">0</span><span class="p">]</span>
</pre></div>

</div>
</div>
</div>

<div class="output_wrapper">
<div class="output">


<div class="output_area"><div class="prompt"></div>
<div class="output_subarea output_stream output_stdout output_text">
<pre>[[  0.00000000e+00  -3.87821276e-03  -1.20498190e-02  -1.05552733e-02
    2.08673616e-04  -8.52950206e-03   0.00000000e+00  -5.10236549e-02
    0.00000000e+00  -3.47633726e-03  -5.50336860e-03  -2.48168183e-02
   -1.63756198e-04   0.00000000e+00  -1.70072004e-05   1.30577772e-05
   -5.14364795e-03   6.69281453e-04]
 [  0.00000000e+00  -3.87821276e-03  -4.51868214e-03  -2.26610387e-03
    7.19763456e-04   0.00000000e+00   0.00000000e+00  -5.10236549e-02
    0.00000000e+00  -3.47633726e-03   1.30705004e-03  -1.45830788e-02
   -1.91048898e-04   6.65082271e-02   4.23240653e-05   6.22415897e-06
   -2.89330197e-03   1.47606982e-03]
 [  0.00000000e+00  -7.75642553e-03  -1.20498190e-02  -1.30002801e-02
    1.60518166e-03  -8.52950206e-03   0.00000000e+00  -5.10236549e-02
    0.00000000e+00  -5.21450589e-03  -8.32384500e-03  -2.48168183e-02
   -3.13866046e-04   0.00000000e+00   4.71047219e-05   1.56530415e-05
    3.72914476e-03   1.64764925e-03]]
</pre>
</div>
</div>

</div>
</div>

</div>
<div class="cell border-box-sizing text_cell rendered">
<div class="prompt input_prompt">
</div>
<div class="inner_cell">
<div class="text_cell_render border-box-sizing rendered_html">
<p>Note that the output of this vectorized operation is identical to that of the loop above, which can be verified below:</p>

</div>
</div>
</div>
<div class="cell border-box-sizing code_cell rendered">
<div class="input">
<div class="prompt input_prompt">In&nbsp;[131]:</div>
<div class="inner_cell">
    <div class="input_area">
<div class=" highlight hl-ipython2"><pre><span></span><span class="c1"># verify that vectorization works</span>
<span class="n">results</span> <span class="o">=</span> <span class="n">features_train</span><span class="p">[</span><span class="mi">0</span><span class="p">:</span><span class="mi">3</span><span class="p">]</span> <span class="o">-</span> <span class="n">features_test</span><span class="p">[</span><span class="mi">0</span><span class="p">]</span>
<span class="k">print</span> <span class="n">results</span><span class="p">[</span><span class="mi">0</span><span class="p">]</span> <span class="o">-</span> <span class="p">(</span><span class="n">features_train</span><span class="p">[</span><span class="mi">0</span><span class="p">]</span><span class="o">-</span><span class="n">features_test</span><span class="p">[</span><span class="mi">0</span><span class="p">])</span>
<span class="c1"># should print all 0&#39;s if results[0] == (features_train[0]-features_test[0])</span>
<span class="k">print</span> <span class="n">results</span><span class="p">[</span><span class="mi">1</span><span class="p">]</span> <span class="o">-</span> <span class="p">(</span><span class="n">features_train</span><span class="p">[</span><span class="mi">1</span><span class="p">]</span><span class="o">-</span><span class="n">features_test</span><span class="p">[</span><span class="mi">0</span><span class="p">])</span>
<span class="c1"># should print all 0&#39;s if results[1] == (features_train[1]-features_test[0])</span>
<span class="k">print</span> <span class="n">results</span><span class="p">[</span><span class="mi">2</span><span class="p">]</span> <span class="o">-</span> <span class="p">(</span><span class="n">features_train</span><span class="p">[</span><span class="mi">2</span><span class="p">]</span><span class="o">-</span><span class="n">features_test</span><span class="p">[</span><span class="mi">0</span><span class="p">])</span>
<span class="c1"># should print all 0&#39;s if results[2] == (features_train[2]-features_test[0])</span>
</pre></div>

</div>
</div>
</div>

<div class="output_wrapper">
<div class="output">


<div class="output_area"><div class="prompt"></div>
<div class="output_subarea output_stream output_stdout output_text">
<pre>[ 0.  0.  0.  0.  0.  0.  0.  0.  0.  0.  0.  0.  0.  0.  0.  0.  0.  0.]
[ 0.  0.  0.  0.  0.  0.  0.  0.  0.  0.  0.  0.  0.  0.  0.  0.  0.  0.]
[ 0.  0.  0.  0.  0.  0.  0.  0.  0.  0.  0.  0.  0.  0.  0.  0.  0.  0.]
</pre>
</div>
</div>

</div>
</div>

</div>
<div class="cell border-box-sizing text_cell rendered">
<div class="prompt input_prompt">
</div>
<div class="inner_cell">
<div class="text_cell_render border-box-sizing rendered_html">
<p>Aside: it is a good idea to write tests like this cell whenever you are vectorizing a complicated operation.</p>

</div>
</div>
</div>
<div class="cell border-box-sizing text_cell rendered">
<div class="prompt input_prompt">
</div>
<div class="inner_cell">
<div class="text_cell_render border-box-sizing rendered_html">
<h1 id="Perform-1-nearest-neighbor-regression">Perform 1-nearest neighbor regression<a class="anchor-link" href="#Perform-1-nearest-neighbor-regression">&#182;</a></h1><p>Now that we have the element-wise differences, it is not too hard to compute the Euclidean distances between our query house and all of the training houses. First, write a single-line expression to define a variable <code>diff</code> such that <code>diff[i]</code> gives the element-wise difference between the features of the query house and the <code>i</code>-th training house.</p>

</div>
</div>
</div>
<div class="cell border-box-sizing code_cell rendered">
<div class="input">
<div class="prompt input_prompt">In&nbsp;[132]:</div>
<div class="inner_cell">
    <div class="input_area">
<div class=" highlight hl-ipython2"><pre><span></span><span class="n">diff</span> <span class="o">=</span> <span class="n">features_train</span> <span class="o">-</span> <span class="n">features_test</span><span class="p">[</span><span class="mi">0</span><span class="p">]</span>
</pre></div>

</div>
</div>
</div>

</div>
<div class="cell border-box-sizing text_cell rendered">
<div class="prompt input_prompt">
</div>
<div class="inner_cell">
<div class="text_cell_render border-box-sizing rendered_html">
<p>To test the code above, run the following cell, which should output a value -0.0934339605842:</p>

</div>
</div>
</div>
<div class="cell border-box-sizing code_cell rendered">
<div class="input">
<div class="prompt input_prompt">In&nbsp;[133]:</div>
<div class="inner_cell">
    <div class="input_area">
<div class=" highlight hl-ipython2"><pre><span></span><span class="k">print</span> <span class="n">diff</span><span class="p">[</span><span class="o">-</span><span class="mi">1</span><span class="p">]</span><span class="o">.</span><span class="n">sum</span><span class="p">()</span> <span class="c1"># sum of the feature differences between the query and last training house</span>
<span class="c1"># should print -0.0934339605842</span>
</pre></div>

</div>
</div>
</div>

<div class="output_wrapper">
<div class="output">


<div class="output_area"><div class="prompt"></div>
<div class="output_subarea output_stream output_stdout output_text">
<pre>-0.0934339605842
</pre>
</div>
</div>

</div>
</div>

</div>
<div class="cell border-box-sizing text_cell rendered">
<div class="prompt input_prompt">
</div>
<div class="inner_cell">
<div class="text_cell_render border-box-sizing rendered_html">
<p>The next step in computing the Euclidean distances is to take these feature-by-feature differences in <code>diff</code>, square each, and take the sum over feature indices.  That is, compute the sum of square feature differences for each training house (row in <code>diff</code>).</p>
<p>By default, <code>np.sum</code> sums up everything in the matrix and returns a single number. To instead sum only over a row or column, we need to specifiy the <code>axis</code> parameter described in the <code>np.sum</code> <a href="http://docs.scipy.org/doc/numpy-1.10.1/reference/generated/numpy.sum.html">documentation</a>. In particular, <code>axis=1</code> computes the sum across each row.</p>
<p>Below, we compute this sum of square feature differences for all training houses and verify that the output for the 16th house in the training set is equivalent to having examined only the 16th row of <code>diff</code> and computing the sum of squares on that row alone.</p>

</div>
</div>
</div>
<div class="cell border-box-sizing code_cell rendered">
<div class="input">
<div class="prompt input_prompt">In&nbsp;[134]:</div>
<div class="inner_cell">
    <div class="input_area">
<div class=" highlight hl-ipython2"><pre><span></span><span class="k">print</span> <span class="n">np</span><span class="o">.</span><span class="n">sum</span><span class="p">(</span><span class="n">diff</span><span class="o">**</span><span class="mi">2</span><span class="p">,</span> <span class="n">axis</span><span class="o">=</span><span class="mi">1</span><span class="p">)[</span><span class="mi">15</span><span class="p">]</span> <span class="c1"># take sum of squares across each row, and print the 16th sum</span>
<span class="k">print</span> <span class="n">np</span><span class="o">.</span><span class="n">sum</span><span class="p">(</span><span class="n">diff</span><span class="p">[</span><span class="mi">15</span><span class="p">]</span><span class="o">**</span><span class="mi">2</span><span class="p">)</span> <span class="c1"># print the sum of squares for the 16th row -- should be same as above</span>
</pre></div>

</div>
</div>
</div>

<div class="output_wrapper">
<div class="output">


<div class="output_area"><div class="prompt"></div>
<div class="output_subarea output_stream output_stdout output_text">
<pre>0.00330705902879
0.00330705902879
</pre>
</div>
</div>

</div>
</div>

</div>
<div class="cell border-box-sizing text_cell rendered">
<div class="prompt input_prompt">
</div>
<div class="inner_cell">
<div class="text_cell_render border-box-sizing rendered_html">
<p>With this result in mind, write a single-line expression to compute the Euclidean distances between the query house and all houses in the training set. Assign the result to a variable <code>distances</code>.</p>
<p><strong>Hint</strong>: Do not forget to take the square root of the sum of squares.</p>

</div>
</div>
</div>
<div class="cell border-box-sizing code_cell rendered">
<div class="input">
<div class="prompt input_prompt">In&nbsp;[136]:</div>
<div class="inner_cell">
    <div class="input_area">
<div class=" highlight hl-ipython2"><pre><span></span><span class="n">distances</span> <span class="o">=</span> <span class="n">np</span><span class="o">.</span><span class="n">sqrt</span><span class="p">(</span><span class="n">np</span><span class="o">.</span><span class="n">sum</span><span class="p">(</span><span class="n">diff</span><span class="o">**</span><span class="mi">2</span><span class="p">,</span> <span class="n">axis</span><span class="o">=</span><span class="mi">1</span><span class="p">))</span>
</pre></div>

</div>
</div>
</div>

</div>
<div class="cell border-box-sizing text_cell rendered">
<div class="prompt input_prompt">
</div>
<div class="inner_cell">
<div class="text_cell_render border-box-sizing rendered_html">
<p>To test the code above, run the following cell, which should output a value 0.0237082324496:</p>

</div>
</div>
</div>
<div class="cell border-box-sizing code_cell rendered">
<div class="input">
<div class="prompt input_prompt">In&nbsp;[137]:</div>
<div class="inner_cell">
    <div class="input_area">
<div class=" highlight hl-ipython2"><pre><span></span><span class="k">print</span> <span class="n">distances</span><span class="p">[</span><span class="mi">100</span><span class="p">]</span> <span class="c1"># Euclidean distance between the query house and the 101th training house</span>
<span class="c1"># should print 0.0237082324496</span>
</pre></div>

</div>
</div>
</div>

<div class="output_wrapper">
<div class="output">


<div class="output_area"><div class="prompt"></div>
<div class="output_subarea output_stream output_stdout output_text">
<pre>0.0237082324496
</pre>
</div>
</div>

</div>
</div>

</div>
<div class="cell border-box-sizing text_cell rendered">
<div class="prompt input_prompt">
</div>
<div class="inner_cell">
<div class="text_cell_render border-box-sizing rendered_html">
<p>Now you are ready to write a function that computes the distances from a query house to all training houses. The function should take two parameters: (i) the matrix of training features and (ii) the single feature vector associated with the query.</p>

</div>
</div>
</div>
<div class="cell border-box-sizing code_cell rendered">
<div class="input">
<div class="prompt input_prompt">In&nbsp;[138]:</div>
<div class="inner_cell">
    <div class="input_area">
<div class=" highlight hl-ipython2"><pre><span></span><span class="k">def</span> <span class="nf">compute_distances</span><span class="p">(</span><span class="n">train_matrix</span><span class="p">,</span> <span class="n">query_vector</span><span class="p">):</span>
    <span class="n">diff</span> <span class="o">=</span> <span class="n">train_matrix</span> <span class="o">-</span> <span class="n">query_vector</span>
    <span class="n">distances</span> <span class="o">=</span> <span class="n">np</span><span class="o">.</span><span class="n">sqrt</span><span class="p">(</span><span class="n">np</span><span class="o">.</span><span class="n">sum</span><span class="p">(</span><span class="n">diff</span><span class="o">**</span><span class="mi">2</span><span class="p">,</span> <span class="n">axis</span><span class="o">=</span><span class="mi">1</span><span class="p">))</span>
    <span class="k">return</span> <span class="n">distances</span>
</pre></div>

</div>
</div>
</div>

</div>
<div class="cell border-box-sizing text_cell rendered">
<div class="prompt input_prompt">
</div>
<div class="inner_cell">
<div class="text_cell_render border-box-sizing rendered_html">
<p><strong><em> QUIZ QUESTIONS </em></strong></p>
<ol>
<li>Take the query house to be third house of the test set (<code>features_test[2]</code>).  What is the index of the house in the training set that is closest to this query house?</li>
<li>What is the predicted value of the query house based on 1-nearest neighbor regression?</li>
</ol>

</div>
</div>
</div>
<div class="cell border-box-sizing code_cell rendered">
<div class="input">
<div class="prompt input_prompt">In&nbsp;[139]:</div>
<div class="inner_cell">
    <div class="input_area">
<div class=" highlight hl-ipython2"><pre><span></span><span class="n">third_house_distance</span> <span class="o">=</span> <span class="n">compute_distances</span><span class="p">(</span><span class="n">features_train</span><span class="p">,</span> <span class="n">features_test</span><span class="p">[</span><span class="mi">2</span><span class="p">])</span>
<span class="k">print</span> <span class="n">third_house_distance</span><span class="o">.</span><span class="n">argsort</span><span class="p">()[:</span><span class="mi">1</span><span class="p">],</span> <span class="nb">min</span><span class="p">(</span><span class="n">third_house_distance</span><span class="p">)</span>
<span class="k">print</span> <span class="n">third_house_distance</span><span class="p">[</span><span class="mi">382</span><span class="p">]</span>
</pre></div>

</div>
</div>
</div>

<div class="output_wrapper">
<div class="output">


<div class="output_area"><div class="prompt"></div>
<div class="output_subarea output_stream output_stdout output_text">
<pre>[382] 0.00286049526751
0.00286049526751
</pre>
</div>
</div>

</div>
</div>

</div>
<div class="cell border-box-sizing code_cell rendered">
<div class="input">
<div class="prompt input_prompt">In&nbsp;[140]:</div>
<div class="inner_cell">
    <div class="input_area">
<div class=" highlight hl-ipython2"><pre><span></span><span class="k">print</span> <span class="n">np</span><span class="o">.</span><span class="n">argsort</span><span class="p">(</span><span class="n">third_house_distance</span><span class="p">,</span> <span class="n">axis</span> <span class="o">=</span> <span class="mi">0</span><span class="p">)[:</span><span class="mi">4</span><span class="p">]</span>
</pre></div>

</div>
</div>
</div>

<div class="output_wrapper">
<div class="output">


<div class="output_area"><div class="prompt"></div>
<div class="output_subarea output_stream output_stdout output_text">
<pre>[ 382 1149 4087 3142]
</pre>
</div>
</div>

</div>
</div>

</div>
<div class="cell border-box-sizing code_cell rendered">
<div class="input">
<div class="prompt input_prompt">In&nbsp;[150]:</div>
<div class="inner_cell">
    <div class="input_area">
<div class=" highlight hl-ipython2"><pre><span></span><span class="k">print</span> <span class="n">output_train</span><span class="p">[</span><span class="mi">382</span><span class="p">]</span>
</pre></div>

</div>
</div>
</div>

<div class="output_wrapper">
<div class="output">


<div class="output_area"><div class="prompt"></div>
<div class="output_subarea output_stream output_stdout output_text">
<pre>249000
</pre>
</div>
</div>

</div>
</div>

</div>
<div class="cell border-box-sizing text_cell rendered">
<div class="prompt input_prompt">
</div>
<div class="inner_cell">
<div class="text_cell_render border-box-sizing rendered_html">
<h1 id="Perform-k-nearest-neighbor-regression">Perform k-nearest neighbor regression<a class="anchor-link" href="#Perform-k-nearest-neighbor-regression">&#182;</a></h1>
</div>
</div>
</div>
<div class="cell border-box-sizing text_cell rendered">
<div class="prompt input_prompt">
</div>
<div class="inner_cell">
<div class="text_cell_render border-box-sizing rendered_html">
<p>For k-nearest neighbors, we need to find a <em>set</em> of k houses in the training set closest to a given query house. We then make predictions based on these k nearest neighbors.</p>

</div>
</div>
</div>
<div class="cell border-box-sizing text_cell rendered">
<div class="prompt input_prompt">
</div>
<div class="inner_cell">
<div class="text_cell_render border-box-sizing rendered_html">
<h2 id="Fetch-k-nearest-neighbors">Fetch k-nearest neighbors<a class="anchor-link" href="#Fetch-k-nearest-neighbors">&#182;</a></h2><p>Using the functions above, implement a function that takes in</p>
<ul>
<li>the value of k;</li>
<li>the feature matrix for the training houses; and</li>
<li>the feature vector of the query house</li>
</ul>
<p>and returns the indices of the k closest training houses. For instance, with 2-nearest neighbor, a return value of [5, 10] would indicate that the 6th and 11th training houses are closest to the query house.</p>
<p><strong>Hint</strong>: Look at the <a href="http://docs.scipy.org/doc/numpy/reference/generated/numpy.argsort.html">documentation for <code>np.argsort</code></a>.</p>

</div>
</div>
</div>
<div class="cell border-box-sizing code_cell rendered">
<div class="input">
<div class="prompt input_prompt">In&nbsp;[141]:</div>
<div class="inner_cell">
    <div class="input_area">
<div class=" highlight hl-ipython2"><pre><span></span><span class="k">def</span> <span class="nf">compute_k_nearest_neighbors</span><span class="p">(</span><span class="n">k</span><span class="p">,</span> <span class="n">features_matrix</span><span class="p">,</span> <span class="n">feature_vector</span><span class="p">):</span>
    <span class="n">distances</span> <span class="o">=</span> <span class="n">compute_distances</span><span class="p">(</span><span class="n">features_matrix</span><span class="p">,</span> <span class="n">feature_vector</span><span class="p">)</span>
    <span class="k">return</span> <span class="n">np</span><span class="o">.</span><span class="n">argsort</span><span class="p">(</span><span class="n">distances</span><span class="p">,</span> <span class="n">axis</span> <span class="o">=</span> <span class="mi">0</span><span class="p">)[:</span><span class="n">k</span><span class="p">]</span>
</pre></div>

</div>
</div>
</div>

</div>
<div class="cell border-box-sizing text_cell rendered">
<div class="prompt input_prompt">
</div>
<div class="inner_cell">
<div class="text_cell_render border-box-sizing rendered_html">
<p><strong><em> QUIZ QUESTION </em></strong></p>
<p>Take the query house to be third house of the test set (<code>features_test[2]</code>).  What are the indices of the 4 training houses closest to the query house?</p>

</div>
</div>
</div>
<div class="cell border-box-sizing code_cell rendered">
<div class="input">
<div class="prompt input_prompt">In&nbsp;[142]:</div>
<div class="inner_cell">
    <div class="input_area">
<div class=" highlight hl-ipython2"><pre><span></span><span class="k">print</span> <span class="n">compute_k_nearest_neighbors</span><span class="p">(</span><span class="mi">4</span><span class="p">,</span> <span class="n">features_train</span><span class="p">,</span> <span class="n">features_test</span><span class="p">[</span><span class="mi">2</span><span class="p">])</span>
</pre></div>

</div>
</div>
</div>

<div class="output_wrapper">
<div class="output">


<div class="output_area"><div class="prompt"></div>
<div class="output_subarea output_stream output_stdout output_text">
<pre>[ 382 1149 4087 3142]
</pre>
</div>
</div>

</div>
</div>

</div>
<div class="cell border-box-sizing text_cell rendered">
<div class="prompt input_prompt">
</div>
<div class="inner_cell">
<div class="text_cell_render border-box-sizing rendered_html">
<h2 id="Make-a-single-prediction-by-averaging-k-nearest-neighbor-outputs">Make a single prediction by averaging k nearest neighbor outputs<a class="anchor-link" href="#Make-a-single-prediction-by-averaging-k-nearest-neighbor-outputs">&#182;</a></h2>
</div>
</div>
</div>
<div class="cell border-box-sizing text_cell rendered">
<div class="prompt input_prompt">
</div>
<div class="inner_cell">
<div class="text_cell_render border-box-sizing rendered_html">
<p>Now that we know how to find the k-nearest neighbors, write a function that predicts the value of a given query house. <strong>For simplicity, take the average of the prices of the k nearest neighbors in the training set</strong>. The function should have the following parameters:</p>
<ul>
<li>the value of k;</li>
<li>the feature matrix for the training houses;</li>
<li>the output values (prices) of the training houses; and</li>
<li>the feature vector of the query house, whose price we are predicting.</li>
</ul>
<p>The function should return a predicted value of the query house.</p>
<p><strong>Hint</strong>: You can extract multiple items from a Numpy array using a list of indices. For instance, <code>output_train[[6, 10]]</code> returns the prices of the 7th and 11th training houses.</p>

</div>
</div>
</div>
<div class="cell border-box-sizing code_cell rendered">
<div class="input">
<div class="prompt input_prompt">In&nbsp;[143]:</div>
<div class="inner_cell">
    <div class="input_area">
<div class=" highlight hl-ipython2"><pre><span></span><span class="k">def</span> <span class="nf">compute_distances_k_avg</span><span class="p">(</span><span class="n">k</span><span class="p">,</span> <span class="n">features_matrix</span><span class="p">,</span> <span class="n">output_values</span><span class="p">,</span> <span class="n">feature_vector</span><span class="p">):</span>
    <span class="n">k_neigbors</span> <span class="o">=</span> <span class="n">compute_k_nearest_neighbors</span><span class="p">(</span><span class="n">k</span><span class="p">,</span> <span class="n">features_matrix</span><span class="p">,</span> <span class="n">feature_vector</span><span class="p">)</span>
    <span class="n">avg_value</span> <span class="o">=</span> <span class="n">np</span><span class="o">.</span><span class="n">mean</span><span class="p">(</span><span class="n">output_values</span><span class="p">[</span><span class="n">k_neigbors</span><span class="p">])</span>
    <span class="k">return</span> <span class="n">avg_value</span>   
    
</pre></div>

</div>
</div>
</div>

</div>
<div class="cell border-box-sizing text_cell rendered">
<div class="prompt input_prompt">
</div>
<div class="inner_cell">
<div class="text_cell_render border-box-sizing rendered_html">
<p><strong><em> QUIZ QUESTION </em></strong></p>
<p>Again taking the query house to be third house of the test set (<code>features_test[2]</code>), predict the value of the query house using k-nearest neighbors with <code>k=4</code> and the simple averaging method described and implemented above.</p>

</div>
</div>
</div>
<div class="cell border-box-sizing code_cell rendered">
<div class="input">
<div class="prompt input_prompt">In&nbsp;[144]:</div>
<div class="inner_cell">
    <div class="input_area">
<div class=" highlight hl-ipython2"><pre><span></span><span class="k">print</span> <span class="n">compute_distances_k_avg</span><span class="p">(</span><span class="mi">4</span><span class="p">,</span> <span class="n">features_train</span><span class="p">,</span> <span class="n">output_train</span><span class="p">,</span> <span class="n">features_test</span><span class="p">[</span><span class="mi">2</span><span class="p">])</span>
</pre></div>

</div>
</div>
</div>

<div class="output_wrapper">
<div class="output">


<div class="output_area"><div class="prompt"></div>
<div class="output_subarea output_stream output_stdout output_text">
<pre>413987.5
</pre>
</div>
</div>

</div>
</div>

</div>
<div class="cell border-box-sizing text_cell rendered">
<div class="prompt input_prompt">
</div>
<div class="inner_cell">
<div class="text_cell_render border-box-sizing rendered_html">
<p>Compare this predicted value using 4-nearest neighbors to the predicted value using 1-nearest neighbor computed earlier.</p>

</div>
</div>
</div>
<div class="cell border-box-sizing text_cell rendered">
<div class="prompt input_prompt">
</div>
<div class="inner_cell">
<div class="text_cell_render border-box-sizing rendered_html">
<h2 id="Make-multiple-predictions">Make multiple predictions<a class="anchor-link" href="#Make-multiple-predictions">&#182;</a></h2>
</div>
</div>
</div>
<div class="cell border-box-sizing text_cell rendered">
<div class="prompt input_prompt">
</div>
<div class="inner_cell">
<div class="text_cell_render border-box-sizing rendered_html">
<p>Write a function to predict the value of <em>each and every</em> house in a query set. (The query set can be any subset of the dataset, be it the test set or validation set.) The idea is to have a loop where we take each house in the query set as the query house and make a prediction for that specific house. The new function should take the following parameters:</p>
<ul>
<li>the value of k;</li>
<li>the feature matrix for the training houses;</li>
<li>the output values (prices) of the training houses; and</li>
<li>the feature matrix for the query set.</li>
</ul>
<p>The function should return a set of predicted values, one for each house in the query set.</p>
<p><strong>Hint</strong>: To get the number of houses in the query set, use the <code>.shape</code> field of the query features matrix. See <a href="http://docs.scipy.org/doc/numpy-1.10.1/reference/generated/numpy.ndarray.shape.html">the documentation</a>.</p>

</div>
</div>
</div>
<div class="cell border-box-sizing code_cell rendered">
<div class="input">
<div class="prompt input_prompt">In&nbsp;[145]:</div>
<div class="inner_cell">
    <div class="input_area">
<div class=" highlight hl-ipython2"><pre><span></span><span class="k">print</span> <span class="n">features_test</span><span class="p">[</span><span class="mi">0</span><span class="p">:</span><span class="mi">10</span><span class="p">]</span><span class="o">.</span><span class="n">shape</span><span class="p">[</span><span class="mi">0</span><span class="p">]</span>
</pre></div>

</div>
</div>
</div>

<div class="output_wrapper">
<div class="output">


<div class="output_area"><div class="prompt"></div>
<div class="output_subarea output_stream output_stdout output_text">
<pre>10
</pre>
</div>
</div>

</div>
</div>

</div>
<div class="cell border-box-sizing code_cell rendered">
<div class="input">
<div class="prompt input_prompt">In&nbsp;[151]:</div>
<div class="inner_cell">
    <div class="input_area">
<div class=" highlight hl-ipython2"><pre><span></span><span class="k">def</span> <span class="nf">compute_distances_k_all</span><span class="p">(</span><span class="n">k</span><span class="p">,</span> <span class="n">features_matrix</span><span class="p">,</span> <span class="n">output_values</span><span class="p">,</span> <span class="n">feature_vector</span><span class="p">):</span>
    <span class="n">num_of_rows</span> <span class="o">=</span> <span class="n">feature_vector</span><span class="o">.</span><span class="n">shape</span><span class="p">[</span><span class="mi">0</span><span class="p">]</span>
    <span class="n">predicted_values</span> <span class="o">=</span> <span class="p">[]</span>
    <span class="k">for</span> <span class="n">i</span> <span class="ow">in</span> <span class="nb">xrange</span><span class="p">(</span><span class="n">num_of_rows</span><span class="p">):</span>
        <span class="n">avg_value</span> <span class="o">=</span> <span class="n">compute_distances_k_avg</span><span class="p">(</span><span class="n">k</span><span class="p">,</span> <span class="n">features_train</span><span class="p">,</span> <span class="n">output_train</span><span class="p">,</span> <span class="n">features_test</span><span class="p">[</span><span class="n">i</span><span class="p">])</span>
        <span class="n">predicted_values</span><span class="o">.</span><span class="n">append</span><span class="p">(</span><span class="n">avg_value</span><span class="p">)</span>
    <span class="k">return</span> <span class="n">predicted_values</span>
</pre></div>

</div>
</div>
</div>

</div>
<div class="cell border-box-sizing text_cell rendered">
<div class="prompt input_prompt">
</div>
<div class="inner_cell">
<div class="text_cell_render border-box-sizing rendered_html">
<p><strong><em> QUIZ QUESTION </em></strong></p>
<p>Make predictions for the first 10 houses in the test set using k-nearest neighbors with <code>k=10</code>.</p>
<ol>
<li>What is the index of the house in this query set that has the lowest predicted value? </li>
<li>What is the predicted value of this house?</li>
</ol>

</div>
</div>
</div>
<div class="cell border-box-sizing code_cell rendered">
<div class="input">
<div class="prompt input_prompt">In&nbsp;[152]:</div>
<div class="inner_cell">
    <div class="input_area">
<div class=" highlight hl-ipython2"><pre><span></span><span class="n">predicted_values</span> <span class="o">=</span> <span class="n">compute_distances_k_all</span><span class="p">(</span><span class="mi">10</span><span class="p">,</span> <span class="n">features_train</span><span class="p">,</span> <span class="n">output_train</span><span class="p">,</span> <span class="n">features_test</span><span class="p">[</span><span class="mi">0</span><span class="p">:</span><span class="mi">10</span><span class="p">])</span>
<span class="k">print</span> <span class="n">predicted_values</span>
<span class="k">print</span> <span class="n">predicted_values</span><span class="o">.</span><span class="n">index</span><span class="p">(</span><span class="nb">min</span><span class="p">(</span><span class="n">predicted_values</span><span class="p">))</span>
</pre></div>

</div>
</div>
</div>

<div class="output_wrapper">
<div class="output">


<div class="output_area"><div class="prompt"></div>
<div class="output_subarea output_stream output_stdout output_text">
<pre>[881300.0, 431860.0, 460595.0, 430200.0, 766750.0, 667420.0, 350032.0, 512800.70000000001, 484000.0, 457235.0]
6
</pre>
</div>
</div>

</div>
</div>

</div>
<div class="cell border-box-sizing code_cell rendered">
<div class="input">
<div class="prompt input_prompt">In&nbsp;[153]:</div>
<div class="inner_cell">
    <div class="input_area">
<div class=" highlight hl-ipython2"><pre><span></span><span class="k">print</span> <span class="nb">min</span><span class="p">(</span><span class="n">predicted_values</span><span class="p">)</span>
</pre></div>

</div>
</div>
</div>

<div class="output_wrapper">
<div class="output">


<div class="output_area"><div class="prompt"></div>
<div class="output_subarea output_stream output_stdout output_text">
<pre>350032.0
</pre>
</div>
</div>

</div>
</div>

</div>
<div class="cell border-box-sizing text_cell rendered">
<div class="prompt input_prompt">
</div>
<div class="inner_cell">
<div class="text_cell_render border-box-sizing rendered_html">
<h2 id="Choosing-the-best-value-of-k-using-a-validation-set">Choosing the best value of k using a validation set<a class="anchor-link" href="#Choosing-the-best-value-of-k-using-a-validation-set">&#182;</a></h2>
</div>
</div>
</div>
<div class="cell border-box-sizing text_cell rendered">
<div class="prompt input_prompt">
</div>
<div class="inner_cell">
<div class="text_cell_render border-box-sizing rendered_html">
<p>There remains a question of choosing the value of k to use in making predictions. Here, we use a validation set to choose this value. Write a loop that does the following:</p>
<ul>
<li>For <code>k</code> in [1, 2, ..., 15]:<ul>
<li>Makes predictions for each house in the VALIDATION set using the k-nearest neighbors from the TRAINING set.</li>
<li>Computes the RSS for these predictions on the VALIDATION set</li>
<li>Stores the RSS computed above in <code>rss_all</code></li>
</ul>
</li>
<li>Report which <code>k</code> produced the lowest RSS on VALIDATION set.</li>
</ul>

</div>
</div>
</div>
<div class="cell border-box-sizing text_cell rendered">
<div class="prompt input_prompt">
</div>
<div class="inner_cell">
<div class="text_cell_render border-box-sizing rendered_html">
<p>(Depending on your computing environment, this computation may take 10-15 minutes.)</p>

</div>
</div>
</div>
<div class="cell border-box-sizing code_cell rendered">
<div class="input">
<div class="prompt input_prompt">In&nbsp;[154]:</div>
<div class="inner_cell">
    <div class="input_area">
<div class=" highlight hl-ipython2"><pre><span></span><span class="n">rss_all</span> <span class="o">=</span> <span class="p">[]</span>
<span class="k">for</span> <span class="n">k</span> <span class="ow">in</span> <span class="nb">range</span><span class="p">(</span><span class="mi">1</span><span class="p">,</span><span class="mi">16</span><span class="p">):</span>    
    <span class="n">predict_value</span> <span class="o">=</span> <span class="n">compute_distances_k_all</span><span class="p">(</span><span class="n">k</span><span class="p">,</span> <span class="n">features_train</span><span class="p">,</span> <span class="n">output_train</span><span class="p">,</span> <span class="n">features_valid</span><span class="p">)</span>
    <span class="n">residual</span> <span class="o">=</span> <span class="p">(</span><span class="n">output_valid</span> <span class="o">-</span> <span class="n">predict_value</span><span class="p">)</span>
    <span class="n">rss</span> <span class="o">=</span> <span class="nb">sum</span><span class="p">(</span><span class="n">residual</span><span class="o">**</span><span class="mi">2</span><span class="p">)</span>
    <span class="n">rss_all</span><span class="o">.</span><span class="n">append</span><span class="p">(</span><span class="n">rss</span><span class="p">)</span>
</pre></div>

</div>
</div>
</div>

</div>
<div class="cell border-box-sizing code_cell rendered">
<div class="input">
<div class="prompt input_prompt">In&nbsp;[155]:</div>
<div class="inner_cell">
    <div class="input_area">
<div class=" highlight hl-ipython2"><pre><span></span><span class="k">print</span> <span class="n">rss_all</span>
</pre></div>

</div>
</div>
</div>

<div class="output_wrapper">
<div class="output">


<div class="output_area"><div class="prompt"></div>
<div class="output_subarea output_stream output_stdout output_text">
<pre>[355632427476622.0, 317939124951086.5, 313153111376088.5, 301621468995236.0, 294266734341982.37, 287781925015337.87, 287842561046849.31, 286179146468967.94, 281718696883431.62, 280358603702662.75, 278687700531166.91, 278744728841428.25, 275043861135800.91, 273895810640073.47, 272162684453609.75]
</pre>
</div>
</div>

</div>
</div>

</div>
<div class="cell border-box-sizing code_cell rendered">
<div class="input">
<div class="prompt input_prompt">In&nbsp;[156]:</div>
<div class="inner_cell">
    <div class="input_area">
<div class=" highlight hl-ipython2"><pre><span></span><span class="k">print</span> <span class="n">rss_all</span><span class="o">.</span><span class="n">index</span><span class="p">(</span><span class="nb">min</span><span class="p">(</span><span class="n">rss_all</span><span class="p">))</span>
</pre></div>

</div>
</div>
</div>

<div class="output_wrapper">
<div class="output">


<div class="output_area"><div class="prompt"></div>
<div class="output_subarea output_stream output_stdout output_text">
<pre>14
</pre>
</div>
</div>

</div>
</div>

</div>
<div class="cell border-box-sizing text_cell rendered">
<div class="prompt input_prompt">
</div>
<div class="inner_cell">
<div class="text_cell_render border-box-sizing rendered_html">
<p>To visualize the performance as a function of <code>k</code>, plot the RSS on the VALIDATION set for each considered <code>k</code> value:</p>

</div>
</div>
</div>
<div class="cell border-box-sizing code_cell rendered">
<div class="input">
<div class="prompt input_prompt">In&nbsp;[157]:</div>
<div class="inner_cell">
    <div class="input_area">
<div class=" highlight hl-ipython2"><pre><span></span><span class="kn">import</span> <span class="nn">matplotlib.pyplot</span> <span class="kn">as</span> <span class="nn">plt</span>
<span class="o">%</span><span class="k">matplotlib</span> inline

<span class="n">kvals</span> <span class="o">=</span> <span class="nb">range</span><span class="p">(</span><span class="mi">1</span><span class="p">,</span> <span class="mi">16</span><span class="p">)</span>
<span class="n">plt</span><span class="o">.</span><span class="n">plot</span><span class="p">(</span><span class="n">kvals</span><span class="p">,</span> <span class="n">rss_all</span><span class="p">,</span><span class="s1">&#39;bo-&#39;</span><span class="p">)</span>
</pre></div>

</div>
</div>
</div>

<div class="output_wrapper">
<div class="output">


<div class="output_area"><div class="prompt output_prompt">Out[157]:</div>


<div class="output_text output_subarea output_execute_result">
<pre>[&lt;matplotlib.lines.Line2D at 0x23d5c5f8&gt;]</pre>
</div>

</div>

<div class="output_area"><div class="prompt"></div>


<div class="output_png output_subarea ">
<img src="data:image/png;base64,iVBORw0KGgoAAAANSUhEUgAAAXUAAAEGCAYAAACaSwWnAAAABHNCSVQICAgIfAhkiAAAAAlwSFlz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=
"
>
</div>

</div>

</div>
</div>

</div>
<div class="cell border-box-sizing text_cell rendered">
<div class="prompt input_prompt">
</div>
<div class="inner_cell">
<div class="text_cell_render border-box-sizing rendered_html">
<p><strong><em>QUIZ QUESTION </em></strong></p>
<p>What is the RSS on the TEST data using the value of k found above?  To be clear, sum over all houses in the TEST set.</p>

</div>
</div>
</div>
<div class="cell border-box-sizing code_cell rendered">
<div class="input">
<div class="prompt input_prompt">In&nbsp;[158]:</div>
<div class="inner_cell">
    <div class="input_area">
<div class=" highlight hl-ipython2"><pre><span></span><span class="n">predict_value</span> <span class="o">=</span> <span class="n">compute_distances_k_all</span><span class="p">(</span><span class="mi">14</span><span class="p">,</span> <span class="n">features_train</span><span class="p">,</span> <span class="n">output_train</span><span class="p">,</span> <span class="n">features_test</span><span class="p">)</span>
<span class="n">residual</span> <span class="o">=</span> <span class="p">(</span><span class="n">output_test</span> <span class="o">-</span> <span class="n">predict_value</span><span class="p">)</span>
<span class="n">rss</span> <span class="o">=</span> <span class="nb">sum</span><span class="p">(</span><span class="n">residual</span><span class="o">**</span><span class="mi">2</span><span class="p">)</span>
<span class="k">print</span> <span class="n">rss</span>
</pre></div>

</div>
</div>
</div>

<div class="output_wrapper">
<div class="output">


<div class="output_area"><div class="prompt"></div>
<div class="output_subarea output_stream output_stdout output_text">
<pre>1.33006256366e+14
</pre>
</div>
</div>

</div>
</div>

</div>
    </div>
  </div>

  </div>


  
    <footer class="footer hidden-print">
      <div class="container">
        <div class="col-md-4">
          <p>
            This website does not host notebooks, it only renders notebooks
            available on other websites.
          </p>
        </div>

        <div class="col-md-4">
          <p>
            Delivered by <a href="http://www.fastly.com/">Fastly</a>,
            Rendered by <a href="https://developer.rackspace.com/?nbviewer=awesome">Rackspace</a>
          </p>
          <p>
            nbviewer GitHub <a href="https://github.com/jupyter/nbviewer">repository</a>.
          </p>
        </div>

        <div class="col-md-4">
          
  
            
              <p>
                nbviewer version:
                <a href="https://github.com/jupyter/nbviewer/commit/0bf9258c078c4b09eec914172d10524e644cdb4e">
                  0bf9258
                </a>
              </p>
            
          
  
  <p>
    nbconvert version: <a href="https://github.com/jupyter/nbconvert/releases/tag/4.2.0">
      4.2.0
    </a>
  </p>
  

          
  
  
  <p>
    Rendered
    <span class='date' data-date='Tue, 18 Oct 2016 16:20:06 UTC' title='Tue, 18 Oct 2016 16:20:06 UTC'>(Tue, 18 Oct 2016 16:20:06 UTC)</span>
  </p>
  

        </div>
      </div>
    </footer>
  

  <script src="/static/components/bootstrap/js/bootstrap.min.js"></script>
  <script src="/static/components/headroom.js/dist/headroom.min.js"></script>
  <script src="/static/components/headroom.js/dist/jQuery.headroom.min.js"></script>

  
  
  <script>
    $(function(){ $("#menubar").headroom({
      tolerance: 5,
      offset: 205,
      classes: {
        initial: "animated",
        pinned: "slideInDown",
        unpinned: "slideOutUp"
      }
    })});
  </script>


  <script>
    (function(i,s,o,g,r,a,m){i['GoogleAnalyticsObject']=r;i[r]=i[r]||function(){
      (i[r].q=i[r].q||[]).push(arguments)},i[r].l=1*new Date();a=s.createElement(o),
      m=s.getElementsByTagName(o)[0];a.async=1;a.src=g;m.parentNode.insertBefore(a,m)
    })(window,document,'script','//www.google-analytics.com/analytics.js','ga');
    ga('create', 'UA-38683231-2', 'auto');
    ga('send', 'pageview');
  </script>
  <script>
    require({
        paths: {
          moment: "/static/components/moment/min/moment.min.js"
        }
      }, ["moment"], function(moment){
      var date = $("footer .date"),
        m = moment(new Date(date.data('date'))),
        update = function(){ date.text(m.fromNow()); };
      setInterval(update, 61*1000);
      update();
      var w = $(window).scroll(function(event){
        $("body").toggleClass("scrolled", w.scrollTop() > 0);
      });
    });
  </script>
  <!--NEW RELIC Stop Perf Measurement-->
  
  <!--NEW RELIC End-->
</body>
</html>